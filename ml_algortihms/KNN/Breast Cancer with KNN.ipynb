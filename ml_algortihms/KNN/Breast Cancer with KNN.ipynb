{
 "cells": [
  {
   "cell_type": "code",
   "execution_count": 1,
   "id": "957ebedd",
   "metadata": {},
   "outputs": [],
   "source": [
    "import pandas as pd\n",
    "import numpy as np\n",
    "from matplotlib import pyplot as plt\n",
    "from KNN import KNN\n",
    "from sklearn.model_selection import train_test_split"
   ]
  },
  {
   "cell_type": "markdown",
   "id": "2607f7c6",
   "metadata": {},
   "source": [
    "In this notebook I will use my own implemented K-NN model to predict breast cancer. The dataset is available in Kaggle:  https://www.kaggle.com/uciml/breast-cancer-wisconsin-data?select=data.csv"
   ]
  },
  {
   "cell_type": "code",
   "execution_count": 2,
   "id": "9bd16f7c",
   "metadata": {},
   "outputs": [],
   "source": [
    "df = pd.read_csv('data.csv')    #load data"
   ]
  },
  {
   "cell_type": "markdown",
   "id": "cab51a4a",
   "metadata": {},
   "source": [
    "For better visualization purposes I chose two random columns as my covariates: `radius mean` and `texture mean`"
   ]
  },
  {
   "cell_type": "code",
   "execution_count": 3,
   "id": "07f6e592",
   "metadata": {},
   "outputs": [],
   "source": [
    "df = df[['radius_mean', 'texture_mean', 'diagnosis']]"
   ]
  },
  {
   "cell_type": "code",
   "execution_count": 4,
   "id": "6b2b5e20",
   "metadata": {},
   "outputs": [
    {
     "data": {
      "text/html": [
       "<div>\n",
       "<style scoped>\n",
       "    .dataframe tbody tr th:only-of-type {\n",
       "        vertical-align: middle;\n",
       "    }\n",
       "\n",
       "    .dataframe tbody tr th {\n",
       "        vertical-align: top;\n",
       "    }\n",
       "\n",
       "    .dataframe thead th {\n",
       "        text-align: right;\n",
       "    }\n",
       "</style>\n",
       "<table border=\"1\" class=\"dataframe\">\n",
       "  <thead>\n",
       "    <tr style=\"text-align: right;\">\n",
       "      <th></th>\n",
       "      <th>radius_mean</th>\n",
       "      <th>texture_mean</th>\n",
       "      <th>diagnosis</th>\n",
       "    </tr>\n",
       "  </thead>\n",
       "  <tbody>\n",
       "    <tr>\n",
       "      <th>0</th>\n",
       "      <td>17.99</td>\n",
       "      <td>10.38</td>\n",
       "      <td>M</td>\n",
       "    </tr>\n",
       "    <tr>\n",
       "      <th>1</th>\n",
       "      <td>20.57</td>\n",
       "      <td>17.77</td>\n",
       "      <td>M</td>\n",
       "    </tr>\n",
       "    <tr>\n",
       "      <th>2</th>\n",
       "      <td>19.69</td>\n",
       "      <td>21.25</td>\n",
       "      <td>M</td>\n",
       "    </tr>\n",
       "    <tr>\n",
       "      <th>3</th>\n",
       "      <td>11.42</td>\n",
       "      <td>20.38</td>\n",
       "      <td>M</td>\n",
       "    </tr>\n",
       "    <tr>\n",
       "      <th>4</th>\n",
       "      <td>20.29</td>\n",
       "      <td>14.34</td>\n",
       "      <td>M</td>\n",
       "    </tr>\n",
       "  </tbody>\n",
       "</table>\n",
       "</div>"
      ],
      "text/plain": [
       "   radius_mean  texture_mean diagnosis\n",
       "0        17.99         10.38         M\n",
       "1        20.57         17.77         M\n",
       "2        19.69         21.25         M\n",
       "3        11.42         20.38         M\n",
       "4        20.29         14.34         M"
      ]
     },
     "execution_count": 4,
     "metadata": {},
     "output_type": "execute_result"
    }
   ],
   "source": [
    "df.head()"
   ]
  },
  {
   "cell_type": "code",
   "execution_count": 5,
   "id": "cfabca98",
   "metadata": {},
   "outputs": [],
   "source": [
    "df.diagnosis = np.where(df.diagnosis == 'M', 1, 0)   #encode, but not necessary"
   ]
  },
  {
   "cell_type": "code",
   "execution_count": 6,
   "id": "ba2c5e20",
   "metadata": {},
   "outputs": [
    {
     "data": {
      "text/html": [
       "<div>\n",
       "<style scoped>\n",
       "    .dataframe tbody tr th:only-of-type {\n",
       "        vertical-align: middle;\n",
       "    }\n",
       "\n",
       "    .dataframe tbody tr th {\n",
       "        vertical-align: top;\n",
       "    }\n",
       "\n",
       "    .dataframe thead th {\n",
       "        text-align: right;\n",
       "    }\n",
       "</style>\n",
       "<table border=\"1\" class=\"dataframe\">\n",
       "  <thead>\n",
       "    <tr style=\"text-align: right;\">\n",
       "      <th></th>\n",
       "      <th>radius_mean</th>\n",
       "      <th>texture_mean</th>\n",
       "      <th>diagnosis</th>\n",
       "    </tr>\n",
       "  </thead>\n",
       "  <tbody>\n",
       "    <tr>\n",
       "      <th>0</th>\n",
       "      <td>17.99</td>\n",
       "      <td>10.38</td>\n",
       "      <td>1</td>\n",
       "    </tr>\n",
       "    <tr>\n",
       "      <th>1</th>\n",
       "      <td>20.57</td>\n",
       "      <td>17.77</td>\n",
       "      <td>1</td>\n",
       "    </tr>\n",
       "    <tr>\n",
       "      <th>2</th>\n",
       "      <td>19.69</td>\n",
       "      <td>21.25</td>\n",
       "      <td>1</td>\n",
       "    </tr>\n",
       "    <tr>\n",
       "      <th>3</th>\n",
       "      <td>11.42</td>\n",
       "      <td>20.38</td>\n",
       "      <td>1</td>\n",
       "    </tr>\n",
       "    <tr>\n",
       "      <th>4</th>\n",
       "      <td>20.29</td>\n",
       "      <td>14.34</td>\n",
       "      <td>1</td>\n",
       "    </tr>\n",
       "  </tbody>\n",
       "</table>\n",
       "</div>"
      ],
      "text/plain": [
       "   radius_mean  texture_mean  diagnosis\n",
       "0        17.99         10.38          1\n",
       "1        20.57         17.77          1\n",
       "2        19.69         21.25          1\n",
       "3        11.42         20.38          1\n",
       "4        20.29         14.34          1"
      ]
     },
     "execution_count": 6,
     "metadata": {},
     "output_type": "execute_result"
    }
   ],
   "source": [
    "df.head()"
   ]
  },
  {
   "cell_type": "code",
   "execution_count": 7,
   "id": "c2d5578f",
   "metadata": {},
   "outputs": [],
   "source": [
    "X = df.drop('diagnosis', axis = 1)\n",
    "y = df['diagnosis']\n",
    "\n",
    "#Split the data to training and testing sets\n",
    "#KNN does not on training set, but will make predictions based on it\n",
    "\n",
    "X_train, X_test, y_train, y_test = train_test_split(X,y, test_size=.25, random_state=101)"
   ]
  },
  {
   "cell_type": "code",
   "execution_count": 8,
   "id": "316e0924",
   "metadata": {},
   "outputs": [
    {
     "data": {
      "image/png": "[encoded data removed]",
      "text/plain": [
       "<Figure size 720x360 with 1 Axes>"
      ]
     },
     "metadata": {
      "needs_background": "light"
     },
     "output_type": "display_data"
    }
   ],
   "source": [
    "fig, ax = plt.subplots(figsize = (10,5))\n",
    "ax.scatter(X_train.radius_mean.values[y_train == 1], X_train.texture_mean.values[y_train == 1], color = 'r', label = 'malignant')\n",
    "ax.scatter(X_train.radius_mean.values[y_train == 0], X_train.texture_mean.values[y_train == 0], color = 'blue', label = 'benign')\n",
    "ax.legend(loc = 'best')\n",
    "ax.set_title('Training set')\n",
    "ax.set_xlabel('Radius')\n",
    "ax.set_ylabel('Texture')\n",
    "\n",
    "fig.tight_layout()\n",
    "plt.show()"
   ]
  },
  {
   "cell_type": "code",
   "execution_count": 9,
   "id": "a569dccf",
   "metadata": {},
   "outputs": [
    {
     "data": {
      "image/png": "[encoded data removed]",
      "text/plain": [
       "<Figure size 720x360 with 1 Axes>"
      ]
     },
     "metadata": {
      "needs_background": "light"
     },
     "output_type": "display_data"
    }
   ],
   "source": [
    "fig, ax = plt.subplots(figsize = (10,5))\n",
    "ax.scatter(X_test.radius_mean.values, X_test.texture_mean.values, color = 'grey', label = 'test data')\n",
    "ax.legend(loc = 'best')\n",
    "ax.set_title('Test Data')\n",
    "ax.set_xlabel('Radius')\n",
    "ax.set_ylabel('Texture')\n",
    "\n",
    "fig.tight_layout()\n",
    "plt.show()"
   ]
  },
  {
   "cell_type": "markdown",
   "id": "73b2be7c",
   "metadata": {},
   "source": [
    "## KNN"
   ]
  },
  {
   "cell_type": "code",
   "execution_count": 10,
   "id": "982a01d7",
   "metadata": {},
   "outputs": [],
   "source": [
    "model = KNN(k = 5)"
   ]
  },
  {
   "cell_type": "code",
   "execution_count": 11,
   "id": "a35b3cd8",
   "metadata": {},
   "outputs": [],
   "source": [
    "model.fit(X_train.values, y_train.values)"
   ]
  },
  {
   "cell_type": "code",
   "execution_count": 12,
   "id": "91e92235",
   "metadata": {},
   "outputs": [],
   "source": [
    "y_pred = model.predict(X_test.values)"
   ]
  },
  {
   "cell_type": "code",
   "execution_count": 13,
   "id": "41448d54",
   "metadata": {},
   "outputs": [],
   "source": [
    "from sklearn.metrics import confusion_matrix"
   ]
  },
  {
   "cell_type": "code",
   "execution_count": 14,
   "id": "531e56d1",
   "metadata": {},
   "outputs": [
    {
     "data": {
      "text/plain": [
       "array([[80,  8],\n",
       "       [11, 44]])"
      ]
     },
     "execution_count": 14,
     "metadata": {},
     "output_type": "execute_result"
    }
   ],
   "source": [
    "confusion_matrix(y_test, y_pred)"
   ]
  },
  {
   "cell_type": "code",
   "execution_count": 29,
   "id": "6f20b09c",
   "metadata": {},
   "outputs": [
    {
     "data": {
      "image/png": "[encoded data removed]",
      "text/plain": [
       "<Figure size 720x360 with 1 Axes>"
      ]
     },
     "metadata": {
      "needs_background": "light"
     },
     "output_type": "display_data"
    }
   ],
   "source": [
    "fig, ax = plt.subplots(figsize = (10,5))\n",
    "ax.scatter(X_test.radius_mean.values[(y_test.values==1)*(y_pred==1)], \\\n",
    "           X_test.texture_mean.values[(y_test.values==1)*(y_pred==1)],\\\n",
    "           color = 'Salmon', label = 'True Positives')\n",
    "\n",
    "ax.scatter(X_test.radius_mean.values[(y_test.values==0)*(y_pred==0)], \\\n",
    "           X_test.texture_mean.values[(y_test.values==0)*(y_pred==0)],\\\n",
    "           color = 'skyblue', label = 'True Negatives')\n",
    "\n",
    "ax.scatter(X_test.radius_mean.values[(y_test.values==1)*(y_pred==0)], \\\n",
    "           X_test.texture_mean.values[(y_test.values==1)*(y_pred==0)],\\\n",
    "           color = 'red', label = 'False Negatives')\n",
    "ax.scatter(X_test.radius_mean.values[(y_test.values==0)*(y_pred==1)], \\\n",
    "           X_test.texture_mean.values[(y_test.values==0)*(y_pred==1)],\\\n",
    "           color = 'midnightblue', label = 'False Positives')\n",
    "\n",
    "ax.legend(loc = 'best')\n",
    "ax.set_title('Prediction accuracy')\n",
    "ax.set_xlabel('Radius')\n",
    "ax.set_ylabel('Texture')\n",
    "\n",
    "fig.tight_layout()\n",
    "plt.show()"
   ]
  },
  {
   "cell_type": "code",
   "execution_count": 30,
   "id": "ab0de92e",
   "metadata": {},
   "outputs": [],
   "source": [
    "from sklearn.metrics import roc_auc_score\n",
    "\n",
    "roc_auc_score()"
   ]
  }
 ],
 "metadata": {
  "kernelspec": {
   "display_name": "Python 3",
   "language": "python",
   "name": "python3"
  },
  "language_info": {
   "codemirror_mode": {
    "name": "ipython",
    "version": 3
   },
   "file_extension": ".py",
   "mimetype": "text/x-python",
   "name": "python",
   "nbconvert_exporter": "python",
   "pygments_lexer": "ipython3",
   "version": "3.8.8"
  }
 },
 "nbformat": 4,
 "nbformat_minor": 5
}
