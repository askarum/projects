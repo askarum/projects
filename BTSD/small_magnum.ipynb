{
 "cells": [
  {
   "cell_type": "code",
   "execution_count": 110,
   "id": "7414ea5e",
   "metadata": {},
   "outputs": [],
   "source": [
    "import pandas as pd\n",
    "from tqdm import tqdm\n",
    "import numpy as np\n",
    "\n",
    "tqdm.pandas()\n",
    "\n",
    "pd.set_option('display.max_rows', 500)\n",
    "pd.set_option('display.max_colwidth', 70)"
   ]
  },
  {
   "cell_type": "code",
   "execution_count": 111,
   "id": "e80e0c1f",
   "metadata": {},
   "outputs": [
    {
     "name": "stderr",
     "output_type": "stream",
     "text": [
      "/opt/anaconda3/lib/python3.8/site-packages/IPython/core/interactiveshell.py:3165: DtypeWarning: Columns (4,5,6,7) have mixed types.Specify dtype option on import or set low_memory=False.\n",
      "  has_raised = await self.run_ast_nodes(code_ast.body, cell_name,\n"
     ]
    }
   ],
   "source": [
    "df = pd.read_csv('/Users/user/Desktop/BTSD/july2021_out2.csv')"
   ]
  },
  {
   "cell_type": "code",
   "execution_count": 112,
   "id": "db050338",
   "metadata": {},
   "outputs": [],
   "source": [
    "df.date = pd.to_datetime(df.date, format='%d/%m/%Y')"
   ]
  },
  {
   "cell_type": "code",
   "execution_count": 113,
   "id": "a99469b4",
   "metadata": {},
   "outputs": [
    {
     "data": {
      "text/plain": [
       "request_id                 object\n",
       "user_id                    object\n",
       "city                       object\n",
       "product_name               object\n",
       "price                      object\n",
       "quantity                   object\n",
       "total_price                object\n",
       "organization_id            object\n",
       "shop_name                  object\n",
       "shop_name_norm             object\n",
       "shop_address               object\n",
       "fiscal_id                 float64\n",
       "rnm                       float64\n",
       "date               datetime64[ns]\n",
       "time                       object\n",
       "cash                      float64\n",
       "card                      float64\n",
       "credit                    float64\n",
       "tare                      float64\n",
       "url                        object\n",
       "dtype: object"
      ]
     },
     "execution_count": 113,
     "metadata": {},
     "output_type": "execute_result"
    }
   ],
   "source": [
    "df.dtypes"
   ]
  },
  {
   "cell_type": "code",
   "execution_count": 114,
   "id": "5adcc500",
   "metadata": {
    "scrolled": true
   },
   "outputs": [
    {
     "data": {
      "text/html": [
       "<div>\n",
       "<style scoped>\n",
       "    .dataframe tbody tr th:only-of-type {\n",
       "        vertical-align: middle;\n",
       "    }\n",
       "\n",
       "    .dataframe tbody tr th {\n",
       "        vertical-align: top;\n",
       "    }\n",
       "\n",
       "    .dataframe thead th {\n",
       "        text-align: right;\n",
       "    }\n",
       "</style>\n",
       "<table border=\"1\" class=\"dataframe\">\n",
       "  <thead>\n",
       "    <tr style=\"text-align: right;\">\n",
       "      <th></th>\n",
       "      <th>request_id</th>\n",
       "      <th>user_id</th>\n",
       "      <th>city</th>\n",
       "      <th>product_name</th>\n",
       "      <th>price</th>\n",
       "      <th>quantity</th>\n",
       "      <th>total_price</th>\n",
       "      <th>organization_id</th>\n",
       "      <th>shop_name</th>\n",
       "      <th>shop_name_norm</th>\n",
       "      <th>shop_address</th>\n",
       "      <th>fiscal_id</th>\n",
       "      <th>rnm</th>\n",
       "      <th>date</th>\n",
       "      <th>time</th>\n",
       "      <th>cash</th>\n",
       "      <th>card</th>\n",
       "      <th>credit</th>\n",
       "      <th>tare</th>\n",
       "      <th>url</th>\n",
       "    </tr>\n",
       "  </thead>\n",
       "  <tbody>\n",
       "    <tr>\n",
       "      <th>0</th>\n",
       "      <td>9b8ce686-0180-48df-9ba2-9925433b8786</td>\n",
       "      <td>73f2a300-5f64-4280-ad0f-1d3d59f4ccc8</td>\n",
       "      <td>Павлодар</td>\n",
       "      <td>Молоко \"ДЕПовское\" ультрапастеризованное, от 3 до 4 %, 500г(шт)</td>\n",
       "      <td>273</td>\n",
       "      <td>3.0</td>\n",
       "      <td>2131</td>\n",
       "      <td>10140004275</td>\n",
       "      <td>товарищество с ограниченной ответственностью \"де-трейд\"</td>\n",
       "      <td>де-трейд</td>\n",
       "      <td>павлодар, исиналиева 58</td>\n",
       "      <td>2.336260e+09</td>\n",
       "      <td>4.515001e+11</td>\n",
       "      <td>2021-07-06</td>\n",
       "      <td>13:39</td>\n",
       "      <td>0.0</td>\n",
       "      <td>2131.0</td>\n",
       "      <td>0.0</td>\n",
       "      <td>0.0</td>\n",
       "      <td>https://consumer.oofd.kz/api/tickets/ticket/a4a9165c-eb9a-4c2e-940...</td>\n",
       "    </tr>\n",
       "    <tr>\n",
       "      <th>1</th>\n",
       "      <td>9b8ce686-0180-48df-9ba2-9925433b8786</td>\n",
       "      <td>73f2a300-5f64-4280-ad0f-1d3d59f4ccc8</td>\n",
       "      <td>Павлодар</td>\n",
       "      <td>Масло сливочное \"Крестьянское\" фас.200 г(шт)</td>\n",
       "      <td>656</td>\n",
       "      <td>2.0</td>\n",
       "      <td>2131</td>\n",
       "      <td>10140004275</td>\n",
       "      <td>товарищество с ограниченной ответственностью \"де-трейд\"</td>\n",
       "      <td>де-трейд</td>\n",
       "      <td>павлодар, исиналиева 58</td>\n",
       "      <td>2.336260e+09</td>\n",
       "      <td>4.515001e+11</td>\n",
       "      <td>2021-07-06</td>\n",
       "      <td>13:39</td>\n",
       "      <td>0.0</td>\n",
       "      <td>2131.0</td>\n",
       "      <td>0.0</td>\n",
       "      <td>0.0</td>\n",
       "      <td>https://consumer.oofd.kz/api/tickets/ticket/a4a9165c-eb9a-4c2e-940...</td>\n",
       "    </tr>\n",
       "    <tr>\n",
       "      <th>2</th>\n",
       "      <td>3af3a8fa-a608-43d1-aef5-14a8a1bf4949</td>\n",
       "      <td>acb5830e-ddad-4593-ba26-327401d2aa9a</td>\n",
       "      <td>Павлодар</td>\n",
       "      <td>МОЛ.ТОП 35 850Г - BEST MILK</td>\n",
       "      <td>248</td>\n",
       "      <td>1.0</td>\n",
       "      <td>258</td>\n",
       "      <td>131141020408</td>\n",
       "      <td>павлодарский филиал товарищества с ограниченной ответственностью \"...</td>\n",
       "      <td>small</td>\n",
       "      <td>экибастуз, ул. машхур жусуп д. строение 88</td>\n",
       "      <td>2.832591e+09</td>\n",
       "      <td>4.516000e+11</td>\n",
       "      <td>2021-07-09</td>\n",
       "      <td>14:06</td>\n",
       "      <td>0.0</td>\n",
       "      <td>258.0</td>\n",
       "      <td>0.0</td>\n",
       "      <td>0.0</td>\n",
       "      <td>https://consumer.oofd.kz/api/tickets/ticket/b55866cc-70a2-460f-aed...</td>\n",
       "    </tr>\n",
       "    <tr>\n",
       "      <th>3</th>\n",
       "      <td>3af3a8fa-a608-43d1-aef5-14a8a1bf4949</td>\n",
       "      <td>acb5830e-ddad-4593-ba26-327401d2aa9a</td>\n",
       "      <td>Павлодар</td>\n",
       "      <td>ПАКЕТ SMALLSKIF - SMALL</td>\n",
       "      <td>5</td>\n",
       "      <td>2.0</td>\n",
       "      <td>258</td>\n",
       "      <td>131141020408</td>\n",
       "      <td>павлодарский филиал товарищества с ограниченной ответственностью \"...</td>\n",
       "      <td>small</td>\n",
       "      <td>экибастуз, ул. машхур жусуп д. строение 88</td>\n",
       "      <td>2.832591e+09</td>\n",
       "      <td>4.516000e+11</td>\n",
       "      <td>2021-07-09</td>\n",
       "      <td>14:06</td>\n",
       "      <td>0.0</td>\n",
       "      <td>258.0</td>\n",
       "      <td>0.0</td>\n",
       "      <td>0.0</td>\n",
       "      <td>https://consumer.oofd.kz/api/tickets/ticket/b55866cc-70a2-460f-aed...</td>\n",
       "    </tr>\n",
       "    <tr>\n",
       "      <th>4</th>\n",
       "      <td>8b8270ca-f931-43c4-859d-2f99b8a41bf0</td>\n",
       "      <td>389ea557-6408-4096-9a66-05c54dc252ee</td>\n",
       "      <td>Талдыкорган</td>\n",
       "      <td>Пакет Magnum платн</td>\n",
       "      <td>7</td>\n",
       "      <td>4.0</td>\n",
       "      <td>4685</td>\n",
       "      <td>190241009479</td>\n",
       "      <td>алматинский филиал №28 товарищества с ограниченной ответственность...</td>\n",
       "      <td>magnum</td>\n",
       "      <td>ауэзовский, ул. жандосова д. 162 в, н.п. 133</td>\n",
       "      <td>3.245408e+09</td>\n",
       "      <td>6.003001e+11</td>\n",
       "      <td>2021-07-20</td>\n",
       "      <td>21:55</td>\n",
       "      <td>0.0</td>\n",
       "      <td>4685.0</td>\n",
       "      <td>0.0</td>\n",
       "      <td>0.0</td>\n",
       "      <td>https://consumer.oofd.kz/api/tickets/ticket/5a2f7a6d-536b-4300-967...</td>\n",
       "    </tr>\n",
       "  </tbody>\n",
       "</table>\n",
       "</div>"
      ],
      "text/plain": [
       "                             request_id                               user_id  \\\n",
       "0  9b8ce686-0180-48df-9ba2-9925433b8786  73f2a300-5f64-4280-ad0f-1d3d59f4ccc8   \n",
       "1  9b8ce686-0180-48df-9ba2-9925433b8786  73f2a300-5f64-4280-ad0f-1d3d59f4ccc8   \n",
       "2  3af3a8fa-a608-43d1-aef5-14a8a1bf4949  acb5830e-ddad-4593-ba26-327401d2aa9a   \n",
       "3  3af3a8fa-a608-43d1-aef5-14a8a1bf4949  acb5830e-ddad-4593-ba26-327401d2aa9a   \n",
       "4  8b8270ca-f931-43c4-859d-2f99b8a41bf0  389ea557-6408-4096-9a66-05c54dc252ee   \n",
       "\n",
       "          city  \\\n",
       "0     Павлодар   \n",
       "1     Павлодар   \n",
       "2     Павлодар   \n",
       "3     Павлодар   \n",
       "4  Талдыкорган   \n",
       "\n",
       "                                                      product_name price  \\\n",
       "0  Молоко \"ДЕПовское\" ультрапастеризованное, от 3 до 4 %, 500г(шт)   273   \n",
       "1                     Масло сливочное \"Крестьянское\" фас.200 г(шт)   656   \n",
       "2                                      МОЛ.ТОП 35 850Г - BEST MILK   248   \n",
       "3                                          ПАКЕТ SMALLSKIF - SMALL     5   \n",
       "4                                               Пакет Magnum платн     7   \n",
       "\n",
       "  quantity total_price organization_id  \\\n",
       "0      3.0        2131     10140004275   \n",
       "1      2.0        2131     10140004275   \n",
       "2      1.0         258    131141020408   \n",
       "3      2.0         258    131141020408   \n",
       "4      4.0        4685    190241009479   \n",
       "\n",
       "                                                               shop_name  \\\n",
       "0                товарищество с ограниченной ответственностью \"де-трейд\"   \n",
       "1                товарищество с ограниченной ответственностью \"де-трейд\"   \n",
       "2  павлодарский филиал товарищества с ограниченной ответственностью \"...   \n",
       "3  павлодарский филиал товарищества с ограниченной ответственностью \"...   \n",
       "4  алматинский филиал №28 товарищества с ограниченной ответственность...   \n",
       "\n",
       "  shop_name_norm                                  shop_address     fiscal_id  \\\n",
       "0       де-трейд                       павлодар, исиналиева 58  2.336260e+09   \n",
       "1       де-трейд                       павлодар, исиналиева 58  2.336260e+09   \n",
       "2          small    экибастуз, ул. машхур жусуп д. строение 88  2.832591e+09   \n",
       "3          small    экибастуз, ул. машхур жусуп д. строение 88  2.832591e+09   \n",
       "4         magnum  ауэзовский, ул. жандосова д. 162 в, н.п. 133  3.245408e+09   \n",
       "\n",
       "            rnm       date   time  cash    card  credit  tare  \\\n",
       "0  4.515001e+11 2021-07-06  13:39   0.0  2131.0     0.0   0.0   \n",
       "1  4.515001e+11 2021-07-06  13:39   0.0  2131.0     0.0   0.0   \n",
       "2  4.516000e+11 2021-07-09  14:06   0.0   258.0     0.0   0.0   \n",
       "3  4.516000e+11 2021-07-09  14:06   0.0   258.0     0.0   0.0   \n",
       "4  6.003001e+11 2021-07-20  21:55   0.0  4685.0     0.0   0.0   \n",
       "\n",
       "                                                                     url  \n",
       "0  https://consumer.oofd.kz/api/tickets/ticket/a4a9165c-eb9a-4c2e-940...  \n",
       "1  https://consumer.oofd.kz/api/tickets/ticket/a4a9165c-eb9a-4c2e-940...  \n",
       "2  https://consumer.oofd.kz/api/tickets/ticket/b55866cc-70a2-460f-aed...  \n",
       "3  https://consumer.oofd.kz/api/tickets/ticket/b55866cc-70a2-460f-aed...  \n",
       "4  https://consumer.oofd.kz/api/tickets/ticket/5a2f7a6d-536b-4300-967...  "
      ]
     },
     "execution_count": 114,
     "metadata": {},
     "output_type": "execute_result"
    }
   ],
   "source": [
    "df.head(5)"
   ]
  },
  {
   "cell_type": "code",
   "execution_count": 115,
   "id": "5825d950",
   "metadata": {},
   "outputs": [
    {
     "data": {
      "text/plain": [
       "Index(['request_id', 'user_id', 'city', 'product_name', 'price', 'quantity',\n",
       "       'total_price', 'organization_id', 'shop_name', 'shop_name_norm',\n",
       "       'shop_address', 'fiscal_id', 'rnm', 'date', 'time', 'cash', 'card',\n",
       "       'credit', 'tare', 'url'],\n",
       "      dtype='object')"
      ]
     },
     "execution_count": 115,
     "metadata": {},
     "output_type": "execute_result"
    }
   ],
   "source": [
    "df.columns"
   ]
  },
  {
   "cell_type": "code",
   "execution_count": 116,
   "id": "e5ca1bd1",
   "metadata": {},
   "outputs": [
    {
     "data": {
      "text/plain": [
       "265962"
      ]
     },
     "execution_count": 116,
     "metadata": {},
     "output_type": "execute_result"
    }
   ],
   "source": [
    "df.shape[0]"
   ]
  },
  {
   "cell_type": "code",
   "execution_count": 117,
   "id": "355f5b08",
   "metadata": {},
   "outputs": [],
   "source": [
    "df = df[df.shop_name_norm.str.contains('аптека|садыхан|гиппократ|фарм', na = False)==False]"
   ]
  },
  {
   "cell_type": "code",
   "execution_count": 118,
   "id": "e06d775d",
   "metadata": {},
   "outputs": [
    {
     "data": {
      "text/plain": [
       "263726"
      ]
     },
     "execution_count": 118,
     "metadata": {},
     "output_type": "execute_result"
    }
   ],
   "source": [
    "df.shape[0]"
   ]
  },
  {
   "cell_type": "markdown",
   "id": "9fae2aa5",
   "metadata": {},
   "source": [
    "## Покупатели в Small в период 21/07-26/07"
   ]
  },
  {
   "cell_type": "code",
   "execution_count": 161,
   "id": "7f33fb60",
   "metadata": {},
   "outputs": [],
   "source": [
    "start_date, end_date = '2021-07-07', '2021-07-12'"
   ]
  },
  {
   "cell_type": "code",
   "execution_count": 162,
   "id": "db63e488",
   "metadata": {},
   "outputs": [],
   "source": [
    "small_users = df[(df.date>=start_date)&(df.date<=end_date)& (df.shop_name_norm.str.contains('small', na=False))].user_id.unique()\n"
   ]
  },
  {
   "cell_type": "markdown",
   "id": "24044a33",
   "metadata": {},
   "source": [
    "## Во время акции покупали только в Small"
   ]
  },
  {
   "cell_type": "code",
   "execution_count": 163,
   "id": "16e0ac65",
   "metadata": {},
   "outputs": [],
   "source": [
    "small = df[(df.date>=start_date)&(df.date<=end_date)&(df.user_id.isin(small_users))].groupby(df.user_id).shop_name_norm.unique().reset_index(name = 'list_shops')"
   ]
  },
  {
   "cell_type": "code",
   "execution_count": 164,
   "id": "9202fc21",
   "metadata": {},
   "outputs": [
    {
     "name": "stdout",
     "output_type": "stream",
     "text": [
      "from 2021-07-07 to 2021-07-12 there were in total 4333 customers. 16.55% or 717 were SMALL customers\n"
     ]
    }
   ],
   "source": [
    "total = df[(df.date>=start_date)&(df.date<=end_date)].user_id.nunique()\n",
    "print('from {0:} to {1:} there were in total {2:} customers. {3:4.2f}% or {4:} were SMALL customers'.format(start_date, end_date, total, small.shape[0]*100/total, small.shape[0]))"
   ]
  },
  {
   "cell_type": "code",
   "execution_count": 165,
   "id": "24aeb0d2",
   "metadata": {},
   "outputs": [],
   "source": [
    "only_small = small[~small.list_shops.apply(lambda x:len(x)<2)]"
   ]
  },
  {
   "cell_type": "code",
   "execution_count": 166,
   "id": "b4c63ea4",
   "metadata": {},
   "outputs": [],
   "source": [
    "only_small_users = only_small.user_id"
   ]
  },
  {
   "cell_type": "code",
   "execution_count": 167,
   "id": "c194fc21",
   "metadata": {},
   "outputs": [
    {
     "name": "stdout",
     "output_type": "stream",
     "text": [
      "Of 717 users 115 purchased only from SMALL and 602 from other stores too\n"
     ]
    }
   ],
   "source": [
    "\n",
    "print('Of {0:} users {1:} purchased only from SMALL and {2:} from other stores too'.format(small.shape[0], only_small.shape[0], small.shape[0]-only_small_users.shape[0]))"
   ]
  },
  {
   "cell_type": "markdown",
   "id": "68691a3c",
   "metadata": {},
   "source": [
    "## Новые пользователи после запущения акции"
   ]
  },
  {
   "cell_type": "code",
   "execution_count": 168,
   "id": "8cedbc13",
   "metadata": {},
   "outputs": [],
   "source": [
    "users = df[df.date<start_date].user_id.unique()"
   ]
  },
  {
   "cell_type": "code",
   "execution_count": 169,
   "id": "7915bfc6",
   "metadata": {},
   "outputs": [
    {
     "data": {
      "text/plain": [
       "70"
      ]
     },
     "execution_count": 169,
     "metadata": {},
     "output_type": "execute_result"
    }
   ],
   "source": [
    "users[np.in1d(users, only_small_users)].shape[0]"
   ]
  },
  {
   "cell_type": "code",
   "execution_count": 170,
   "id": "d9fa9613",
   "metadata": {},
   "outputs": [
    {
     "data": {
      "text/plain": [
       "(70,)"
      ]
     },
     "execution_count": 170,
     "metadata": {},
     "output_type": "execute_result"
    }
   ],
   "source": [
    "np.intersect1d(users, only_small_users).shape"
   ]
  },
  {
   "cell_type": "code",
   "execution_count": 171,
   "id": "c522f323",
   "metadata": {},
   "outputs": [
    {
     "data": {
      "text/plain": [
       "45"
      ]
     },
     "execution_count": 171,
     "metadata": {},
     "output_type": "execute_result"
    }
   ],
   "source": [
    "only_small_users.shape[0] - users[np.in1d(users, only_small_users)].shape[0]"
   ]
  },
  {
   "cell_type": "markdown",
   "id": "23752da4",
   "metadata": {},
   "source": [
    "## Где покупали до акции"
   ]
  },
  {
   "cell_type": "code",
   "execution_count": 172,
   "id": "d05a2dba",
   "metadata": {},
   "outputs": [],
   "source": [
    "before = df[(df.date<start_date)&(df.user_id.isin(only_small_users))]"
   ]
  },
  {
   "cell_type": "code",
   "execution_count": 173,
   "id": "6db426de",
   "metadata": {},
   "outputs": [
    {
     "data": {
      "text/plain": [
       "(1612, 20)"
      ]
     },
     "execution_count": 173,
     "metadata": {},
     "output_type": "execute_result"
    }
   ],
   "source": [
    "before.shape"
   ]
  },
  {
   "cell_type": "code",
   "execution_count": 174,
   "id": "bc51a64c",
   "metadata": {},
   "outputs": [],
   "source": [
    "final = before.groupby(before.user_id).shop_name_norm.unique().reset_index(name = 'shops')"
   ]
  },
  {
   "cell_type": "code",
   "execution_count": 175,
   "id": "10faeeda",
   "metadata": {},
   "outputs": [
    {
     "data": {
      "text/plain": [
       "(70, 2)"
      ]
     },
     "execution_count": 175,
     "metadata": {},
     "output_type": "execute_result"
    }
   ],
   "source": [
    "final.shape"
   ]
  },
  {
   "cell_type": "code",
   "execution_count": 176,
   "id": "62db767c",
   "metadata": {},
   "outputs": [
    {
     "data": {
      "text/html": [
       "<div>\n",
       "<style scoped>\n",
       "    .dataframe tbody tr th:only-of-type {\n",
       "        vertical-align: middle;\n",
       "    }\n",
       "\n",
       "    .dataframe tbody tr th {\n",
       "        vertical-align: top;\n",
       "    }\n",
       "\n",
       "    .dataframe thead th {\n",
       "        text-align: right;\n",
       "    }\n",
       "</style>\n",
       "<table border=\"1\" class=\"dataframe\">\n",
       "  <thead>\n",
       "    <tr style=\"text-align: right;\">\n",
       "      <th></th>\n",
       "      <th>user_id</th>\n",
       "      <th>shops</th>\n",
       "    </tr>\n",
       "  </thead>\n",
       "  <tbody>\n",
       "    <tr>\n",
       "      <th>0</th>\n",
       "      <td>02dd9c43-da9c-4d5d-8c0b-27942257fb61</td>\n",
       "      <td>[magnum, детский мир - казахстан]</td>\n",
       "    </tr>\n",
       "    <tr>\n",
       "      <th>1</th>\n",
       "      <td>02f25295-84c6-470b-a899-f600dd8ae07c</td>\n",
       "      <td>[l-med, magnum, small, детский мир - казахстан]</td>\n",
       "    </tr>\n",
       "    <tr>\n",
       "      <th>2</th>\n",
       "      <td>03863a3a-404c-48b1-aead-022a362df6c6</td>\n",
       "      <td>[magnum]</td>\n",
       "    </tr>\n",
       "    <tr>\n",
       "      <th>3</th>\n",
       "      <td>06647e6c-615d-4232-9190-4bbe049677f5</td>\n",
       "      <td>[small]</td>\n",
       "    </tr>\n",
       "    <tr>\n",
       "      <th>4</th>\n",
       "      <td>0ef8f52d-f0fc-47f6-b53d-8ddc820d8afa</td>\n",
       "      <td>[small]</td>\n",
       "    </tr>\n",
       "  </tbody>\n",
       "</table>\n",
       "</div>"
      ],
      "text/plain": [
       "                                user_id  \\\n",
       "0  02dd9c43-da9c-4d5d-8c0b-27942257fb61   \n",
       "1  02f25295-84c6-470b-a899-f600dd8ae07c   \n",
       "2  03863a3a-404c-48b1-aead-022a362df6c6   \n",
       "3  06647e6c-615d-4232-9190-4bbe049677f5   \n",
       "4  0ef8f52d-f0fc-47f6-b53d-8ddc820d8afa   \n",
       "\n",
       "                                             shops  \n",
       "0                [magnum, детский мир - казахстан]  \n",
       "1  [l-med, magnum, small, детский мир - казахстан]  \n",
       "2                                         [magnum]  \n",
       "3                                          [small]  \n",
       "4                                          [small]  "
      ]
     },
     "execution_count": 176,
     "metadata": {},
     "output_type": "execute_result"
    }
   ],
   "source": [
    "final.head(5)"
   ]
  },
  {
   "cell_type": "code",
   "execution_count": 177,
   "id": "27f33173",
   "metadata": {},
   "outputs": [
    {
     "name": "stdout",
     "output_type": "stream",
     "text": [
      "Количество пользователей которые покупали только в смол до акции: 18 или 25.71%\n"
     ]
    }
   ],
   "source": [
    "s1 = final[final.shops.apply(lambda x:len(x)<2)].shops.apply(lambda x: ''.join(x)).str.contains('small', na = False)\n",
    "print('Количество пользователей которые покупали только в смол до акции: {0:} или {1:.2f}%'.format(s1.sum(), s1.sum()/final.shape[0]*100))"
   ]
  },
  {
   "cell_type": "code",
   "execution_count": 178,
   "id": "a99b8f58",
   "metadata": {},
   "outputs": [
    {
     "name": "stdout",
     "output_type": "stream",
     "text": [
      "Количество пользователей которые покупали и в смол до акции: 25 или 35.71%\n"
     ]
    }
   ],
   "source": [
    "s2 = final[final.shops.apply(lambda x:len(x)>1)].shops.apply(lambda x: ''.join(x)).str.contains('small', na = False)\n",
    "print('Количество пользователей которые покупали и в смол до акции: {0:} или {1:.2f}%'.format(s2.sum(), s2.sum()/final.shape[0]*100))"
   ]
  },
  {
   "cell_type": "code",
   "execution_count": 179,
   "id": "fbec4472",
   "metadata": {},
   "outputs": [
    {
     "name": "stdout",
     "output_type": "stream",
     "text": [
      "Количество новых пользователей которые покупали только в смол ПОСЛЕ акции: 27 или 38.57%\n"
     ]
    }
   ],
   "source": [
    "s3 = final[~pd.concat([s1,s2]).sort_index()]\n",
    "print('Количество новых пользователей которые покупали только в смол ПОСЛЕ акции: {0:} или {1:.2f}%'.format(s3.shape[0], s3.shape[0]/final.shape[0]*100))"
   ]
  },
  {
   "cell_type": "code",
   "execution_count": 184,
   "id": "a779a6b0",
   "metadata": {},
   "outputs": [
    {
     "data": {
      "text/html": [
       "<div>\n",
       "<style scoped>\n",
       "    .dataframe tbody tr th:only-of-type {\n",
       "        vertical-align: middle;\n",
       "    }\n",
       "\n",
       "    .dataframe tbody tr th {\n",
       "        vertical-align: top;\n",
       "    }\n",
       "\n",
       "    .dataframe thead th {\n",
       "        text-align: right;\n",
       "    }\n",
       "</style>\n",
       "<table border=\"1\" class=\"dataframe\">\n",
       "  <thead>\n",
       "    <tr style=\"text-align: right;\">\n",
       "      <th></th>\n",
       "      <th>user_id</th>\n",
       "      <th>shops</th>\n",
       "    </tr>\n",
       "  </thead>\n",
       "  <tbody>\n",
       "    <tr>\n",
       "      <th>1</th>\n",
       "      <td>02f25295-84c6-470b-a899-f600dd8ae07c</td>\n",
       "      <td>[l-med, magnum, small, детский мир - казахстан]</td>\n",
       "    </tr>\n",
       "    <tr>\n",
       "      <th>5</th>\n",
       "      <td>11093d6d-7cc7-4483-96bb-6cfdbd4f02d9</td>\n",
       "      <td>[алмастор, small]</td>\n",
       "    </tr>\n",
       "    <tr>\n",
       "      <th>6</th>\n",
       "      <td>1140fbbf-da72-4477-a2f0-c7b3524e8cc9</td>\n",
       "      <td>[алмастор, small]</td>\n",
       "    </tr>\n",
       "    <tr>\n",
       "      <th>8</th>\n",
       "      <td>189117cf-cc97-4e9c-800a-16041396b809</td>\n",
       "      <td>[small, алмастор]</td>\n",
       "    </tr>\n",
       "    <tr>\n",
       "      <th>9</th>\n",
       "      <td>1d0e7592-d3ed-48de-ba8d-bc0b9b6efe90</td>\n",
       "      <td>[small, jardi kz]</td>\n",
       "    </tr>\n",
       "    <tr>\n",
       "      <th>10</th>\n",
       "      <td>227c8bfa-47d9-451a-bdac-323212c877a6</td>\n",
       "      <td>[small, лидер]</td>\n",
       "    </tr>\n",
       "    <tr>\n",
       "      <th>14</th>\n",
       "      <td>3cad6448-7fcb-48b8-8103-8065a47c7271</td>\n",
       "      <td>[small, magnum]</td>\n",
       "    </tr>\n",
       "    <tr>\n",
       "      <th>17</th>\n",
       "      <td>480bc46a-ba9e-4186-b582-42be56d5564d</td>\n",
       "      <td>[retail a-a, small, magnum]</td>\n",
       "    </tr>\n",
       "    <tr>\n",
       "      <th>21</th>\n",
       "      <td>52ef654d-8a45-44f7-86cd-024f6cd8612a</td>\n",
       "      <td>[magnum, small]</td>\n",
       "    </tr>\n",
       "    <tr>\n",
       "      <th>23</th>\n",
       "      <td>5627347b-72d8-4352-8723-8cd41aad4180</td>\n",
       "      <td>[small, магазин у дома]</td>\n",
       "    </tr>\n",
       "    <tr>\n",
       "      <th>26</th>\n",
       "      <td>5e5f38a4-7b76-4cf5-b3c2-27244f2649b8</td>\n",
       "      <td>[small, magnum]</td>\n",
       "    </tr>\n",
       "    <tr>\n",
       "      <th>29</th>\n",
       "      <td>6343b7f5-44d7-4088-b3fb-d75dbea5a024</td>\n",
       "      <td>[magnum, small]</td>\n",
       "    </tr>\n",
       "    <tr>\n",
       "      <th>31</th>\n",
       "      <td>762eb9bb-e19b-490a-9907-d34b15f3bdca</td>\n",
       "      <td>[magnum, small]</td>\n",
       "    </tr>\n",
       "    <tr>\n",
       "      <th>37</th>\n",
       "      <td>8146ece9-c0bd-4e57-8953-d2848698cdaa</td>\n",
       "      <td>[small, magnum]</td>\n",
       "    </tr>\n",
       "    <tr>\n",
       "      <th>40</th>\n",
       "      <td>8877bd64-eb50-4b0c-9857-9a1c3c5ef596</td>\n",
       "      <td>[small, key two]</td>\n",
       "    </tr>\n",
       "    <tr>\n",
       "      <th>42</th>\n",
       "      <td>8968cf27-98ee-42b2-ba8b-55396cf26b22</td>\n",
       "      <td>[magnum, small]</td>\n",
       "    </tr>\n",
       "    <tr>\n",
       "      <th>48</th>\n",
       "      <td>95be425b-a1ea-4f21-bec1-f365f1042b65</td>\n",
       "      <td>[magnum, small]</td>\n",
       "    </tr>\n",
       "    <tr>\n",
       "      <th>51</th>\n",
       "      <td>ad66fbbf-0ed8-4b67-b5d1-ff3824fd3a25</td>\n",
       "      <td>[jardi kz, small]</td>\n",
       "    </tr>\n",
       "    <tr>\n",
       "      <th>52</th>\n",
       "      <td>b1041570-118e-4a18-9f99-32beb3518cb6</td>\n",
       "      <td>[алмастор, small]</td>\n",
       "    </tr>\n",
       "    <tr>\n",
       "      <th>54</th>\n",
       "      <td>b83ab797-fcc1-42f0-950a-25711c3a3430</td>\n",
       "      <td>[small, jardi kz]</td>\n",
       "    </tr>\n",
       "    <tr>\n",
       "      <th>55</th>\n",
       "      <td>b8e45c9b-e4b5-4773-9384-ee05bb8e3a4d</td>\n",
       "      <td>[magnum, small]</td>\n",
       "    </tr>\n",
       "    <tr>\n",
       "      <th>56</th>\n",
       "      <td>bb0a4c94-21e5-4c89-8832-56d805425dab</td>\n",
       "      <td>[magnum, small]</td>\n",
       "    </tr>\n",
       "    <tr>\n",
       "      <th>65</th>\n",
       "      <td>e75643e5-24ab-49dd-9b89-a5d427bd372f</td>\n",
       "      <td>[small, magnum]</td>\n",
       "    </tr>\n",
       "    <tr>\n",
       "      <th>66</th>\n",
       "      <td>f382922a-38c8-42cd-9711-eedeb9fba3ec</td>\n",
       "      <td>[magnum, small]</td>\n",
       "    </tr>\n",
       "    <tr>\n",
       "      <th>67</th>\n",
       "      <td>f4673cc6-830f-467a-991d-0339bf1fa266</td>\n",
       "      <td>[magnum, small]</td>\n",
       "    </tr>\n",
       "  </tbody>\n",
       "</table>\n",
       "</div>"
      ],
      "text/plain": [
       "                                 user_id  \\\n",
       "1   02f25295-84c6-470b-a899-f600dd8ae07c   \n",
       "5   11093d6d-7cc7-4483-96bb-6cfdbd4f02d9   \n",
       "6   1140fbbf-da72-4477-a2f0-c7b3524e8cc9   \n",
       "8   189117cf-cc97-4e9c-800a-16041396b809   \n",
       "9   1d0e7592-d3ed-48de-ba8d-bc0b9b6efe90   \n",
       "10  227c8bfa-47d9-451a-bdac-323212c877a6   \n",
       "14  3cad6448-7fcb-48b8-8103-8065a47c7271   \n",
       "17  480bc46a-ba9e-4186-b582-42be56d5564d   \n",
       "21  52ef654d-8a45-44f7-86cd-024f6cd8612a   \n",
       "23  5627347b-72d8-4352-8723-8cd41aad4180   \n",
       "26  5e5f38a4-7b76-4cf5-b3c2-27244f2649b8   \n",
       "29  6343b7f5-44d7-4088-b3fb-d75dbea5a024   \n",
       "31  762eb9bb-e19b-490a-9907-d34b15f3bdca   \n",
       "37  8146ece9-c0bd-4e57-8953-d2848698cdaa   \n",
       "40  8877bd64-eb50-4b0c-9857-9a1c3c5ef596   \n",
       "42  8968cf27-98ee-42b2-ba8b-55396cf26b22   \n",
       "48  95be425b-a1ea-4f21-bec1-f365f1042b65   \n",
       "51  ad66fbbf-0ed8-4b67-b5d1-ff3824fd3a25   \n",
       "52  b1041570-118e-4a18-9f99-32beb3518cb6   \n",
       "54  b83ab797-fcc1-42f0-950a-25711c3a3430   \n",
       "55  b8e45c9b-e4b5-4773-9384-ee05bb8e3a4d   \n",
       "56  bb0a4c94-21e5-4c89-8832-56d805425dab   \n",
       "65  e75643e5-24ab-49dd-9b89-a5d427bd372f   \n",
       "66  f382922a-38c8-42cd-9711-eedeb9fba3ec   \n",
       "67  f4673cc6-830f-467a-991d-0339bf1fa266   \n",
       "\n",
       "                                              shops  \n",
       "1   [l-med, magnum, small, детский мир - казахстан]  \n",
       "5                                 [алмастор, small]  \n",
       "6                                 [алмастор, small]  \n",
       "8                                 [small, алмастор]  \n",
       "9                                 [small, jardi kz]  \n",
       "10                                   [small, лидер]  \n",
       "14                                  [small, magnum]  \n",
       "17                      [retail a-a, small, magnum]  \n",
       "21                                  [magnum, small]  \n",
       "23                          [small, магазин у дома]  \n",
       "26                                  [small, magnum]  \n",
       "29                                  [magnum, small]  \n",
       "31                                  [magnum, small]  \n",
       "37                                  [small, magnum]  \n",
       "40                                 [small, key two]  \n",
       "42                                  [magnum, small]  \n",
       "48                                  [magnum, small]  \n",
       "51                                [jardi kz, small]  \n",
       "52                                [алмастор, small]  \n",
       "54                                [small, jardi kz]  \n",
       "55                                  [magnum, small]  \n",
       "56                                  [magnum, small]  \n",
       "65                                  [small, magnum]  \n",
       "66                                  [magnum, small]  \n",
       "67                                  [magnum, small]  "
      ]
     },
     "execution_count": 184,
     "metadata": {},
     "output_type": "execute_result"
    }
   ],
   "source": [
    "final[final.shops.apply(lambda x:len(x)>1)][s2]"
   ]
  },
  {
   "cell_type": "code",
   "execution_count": 159,
   "id": "d49dd886",
   "metadata": {},
   "outputs": [],
   "source": [
    "not_small = final[~pd.concat([s1,s2]).sort_index()]"
   ]
  },
  {
   "cell_type": "code",
   "execution_count": 160,
   "id": "de7a3132",
   "metadata": {},
   "outputs": [],
   "source": [
    "not_small = not_small.reset_index().drop(columns = ['index']).explode('shops', ignore_index = True)"
   ]
  },
  {
   "cell_type": "code",
   "execution_count": 140,
   "id": "17b829b2",
   "metadata": {},
   "outputs": [],
   "source": [
    "to_small = not_small.groupby('shops').user_id.nunique().reset_index(name = 'freq').sort_values('freq', ascending = False)"
   ]
  },
  {
   "cell_type": "code",
   "execution_count": 141,
   "id": "5131886e",
   "metadata": {},
   "outputs": [
    {
     "data": {
      "text/html": [
       "<div>\n",
       "<style scoped>\n",
       "    .dataframe tbody tr th:only-of-type {\n",
       "        vertical-align: middle;\n",
       "    }\n",
       "\n",
       "    .dataframe tbody tr th {\n",
       "        vertical-align: top;\n",
       "    }\n",
       "\n",
       "    .dataframe thead th {\n",
       "        text-align: right;\n",
       "    }\n",
       "</style>\n",
       "<table border=\"1\" class=\"dataframe\">\n",
       "  <thead>\n",
       "    <tr style=\"text-align: right;\">\n",
       "      <th></th>\n",
       "      <th>shops</th>\n",
       "      <th>freq</th>\n",
       "    </tr>\n",
       "  </thead>\n",
       "  <tbody>\n",
       "    <tr>\n",
       "      <th>2</th>\n",
       "      <td>magnum</td>\n",
       "      <td>33</td>\n",
       "    </tr>\n",
       "    <tr>\n",
       "      <th>16</th>\n",
       "      <td>центр торговли \"астықжан</td>\n",
       "      <td>5</td>\n",
       "    </tr>\n",
       "    <tr>\n",
       "      <th>7</th>\n",
       "      <td>алмастор</td>\n",
       "      <td>4</td>\n",
       "    </tr>\n",
       "    <tr>\n",
       "      <th>4</th>\n",
       "      <td>osten</td>\n",
       "      <td>3</td>\n",
       "    </tr>\n",
       "    <tr>\n",
       "      <th>1</th>\n",
       "      <td>jardi kz</td>\n",
       "      <td>3</td>\n",
       "    </tr>\n",
       "  </tbody>\n",
       "</table>\n",
       "</div>"
      ],
      "text/plain": [
       "                       shops  freq\n",
       "2                     magnum    33\n",
       "16  центр торговли \"астықжан     5\n",
       "7                   алмастор     4\n",
       "4                      osten     3\n",
       "1                   jardi kz     3"
      ]
     },
     "execution_count": 141,
     "metadata": {},
     "output_type": "execute_result"
    }
   ],
   "source": [
    "to_small[:5]"
   ]
  },
  {
   "cell_type": "code",
   "execution_count": 34,
   "id": "e0b6b5d3",
   "metadata": {},
   "outputs": [
    {
     "data": {
      "text/plain": [
       "60"
      ]
     },
     "execution_count": 34,
     "metadata": {},
     "output_type": "execute_result"
    }
   ],
   "source": [
    "to_small.freq.sum()"
   ]
  },
  {
   "cell_type": "code",
   "execution_count": 35,
   "id": "f743d9fa",
   "metadata": {},
   "outputs": [],
   "source": [
    "not_small_users = not_small.user_id.unique()"
   ]
  },
  {
   "cell_type": "code",
   "execution_count": 36,
   "id": "f0332bb9",
   "metadata": {},
   "outputs": [],
   "source": [
    "not_small_top = df[(df.user_id.isin(not_small_users))&(df.date<'2021-07-21')]"
   ]
  },
  {
   "cell_type": "code",
   "execution_count": 37,
   "id": "3e0d90fa",
   "metadata": {},
   "outputs": [
    {
     "data": {
      "text/plain": [
       "(1902, 20)"
      ]
     },
     "execution_count": 37,
     "metadata": {},
     "output_type": "execute_result"
    }
   ],
   "source": [
    "not_small_top.shape"
   ]
  },
  {
   "cell_type": "code",
   "execution_count": 38,
   "id": "541a19e4",
   "metadata": {},
   "outputs": [
    {
     "data": {
      "text/plain": [
       "(1901, 20)"
      ]
     },
     "execution_count": 38,
     "metadata": {},
     "output_type": "execute_result"
    }
   ],
   "source": [
    "not_small_top = not_small_top[not_small_top.product_name.notna()]\n",
    "not_small_top.shape"
   ]
  },
  {
   "cell_type": "code",
   "execution_count": 39,
   "id": "017ad734",
   "metadata": {},
   "outputs": [],
   "source": [
    "from sklearn.feature_extraction.text import CountVectorizer"
   ]
  },
  {
   "cell_type": "code",
   "execution_count": 40,
   "id": "7211daa7",
   "metadata": {},
   "outputs": [],
   "source": [
    "word_vectorizer = CountVectorizer(ngram_range=(1,2), analyzer='word')\n",
    "sparse_matrix = word_vectorizer.fit_transform(not_small_top['product_name'])"
   ]
  },
  {
   "cell_type": "code",
   "execution_count": 41,
   "id": "7b849334",
   "metadata": {},
   "outputs": [],
   "source": [
    "frequencies = sum(sparse_matrix).toarray()[0]\n",
    "res = pd.DataFrame(frequencies, index=word_vectorizer.get_feature_names(), columns=['frequency'])"
   ]
  },
  {
   "cell_type": "code",
   "execution_count": 42,
   "id": "b641ddc1",
   "metadata": {},
   "outputs": [],
   "source": [
    "res = res.sort_values('frequency', ascending=False)"
   ]
  },
  {
   "cell_type": "code",
   "execution_count": 43,
   "id": "28f83b41",
   "metadata": {},
   "outputs": [],
   "source": [
    "res = res.reset_index().rename(columns={'index': 'word'})"
   ]
  },
  {
   "cell_type": "code",
   "execution_count": 44,
   "id": "d83be314",
   "metadata": {},
   "outputs": [],
   "source": [
    "res['word_length'] = res.word.str.len()"
   ]
  },
  {
   "cell_type": "code",
   "execution_count": 45,
   "id": "518e70d5",
   "metadata": {},
   "outputs": [],
   "source": [
    "res = res.loc[res.word_length > 2]"
   ]
  },
  {
   "cell_type": "code",
   "execution_count": 46,
   "id": "e6b5d5c2",
   "metadata": {},
   "outputs": [
    {
     "name": "stdout",
     "output_type": "stream",
     "text": [
      "пакет\n",
      "вес\n",
      "кор\n",
      "small\n",
      "напиток\n",
      "молоко\n",
      "печенье\n",
      "400гр\n",
      "magnum\n",
      "чай\n",
      "макароны\n",
      "пакет magnum\n",
      "пюре\n",
      "платн\n",
      "magnum платн\n"
     ]
    }
   ],
   "source": [
    "for i in res.iloc[:15].word:\n",
    "    print(i)"
   ]
  },
  {
   "cell_type": "markdown",
   "id": "d060642d",
   "metadata": {},
   "source": [
    "## Количество чеков"
   ]
  },
  {
   "cell_type": "code",
   "execution_count": 47,
   "id": "e6be2935",
   "metadata": {},
   "outputs": [],
   "source": [
    "# start_date, end_date = '2021-07-07', '2021-07-12'"
   ]
  },
  {
   "cell_type": "code",
   "execution_count": 48,
   "id": "8220395a",
   "metadata": {},
   "outputs": [
    {
     "data": {
      "text/plain": [
       "7095"
      ]
     },
     "execution_count": 48,
     "metadata": {},
     "output_type": "execute_result"
    }
   ],
   "source": [
    "total_check = df[(df.date>=start_date)&(df.date<=end_date)].fiscal_id.nunique()\n",
    "total_check"
   ]
  },
  {
   "cell_type": "code",
   "execution_count": 49,
   "id": "3c688a9f",
   "metadata": {},
   "outputs": [
    {
     "data": {
      "text/plain": [
       "1030"
      ]
     },
     "execution_count": 49,
     "metadata": {},
     "output_type": "execute_result"
    }
   ],
   "source": [
    "small_check = df[(df.date>=start_date)&(df.date<=end_date)&(df.shop_name_norm.str.contains('small'))].fiscal_id.nunique()\n",
    "small_check"
   ]
  },
  {
   "cell_type": "code",
   "execution_count": 50,
   "id": "2ef439e5",
   "metadata": {},
   "outputs": [
    {
     "data": {
      "text/plain": [
       "14.517265680056376"
      ]
     },
     "execution_count": 50,
     "metadata": {},
     "output_type": "execute_result"
    }
   ],
   "source": [
    "small_check/total_check*100"
   ]
  },
  {
   "cell_type": "markdown",
   "id": "5a4947ae",
   "metadata": {},
   "source": [
    "## Сумма закупок"
   ]
  },
  {
   "cell_type": "code",
   "execution_count": null,
   "id": "a9d6a089",
   "metadata": {},
   "outputs": [],
   "source": [
    "# start_date, end_date = '2021-07-14', '2021-07-19'\n",
    "df.total_price = df.total_price.astype(float)"
   ]
  },
  {
   "cell_type": "code",
   "execution_count": null,
   "id": "fdb6448d",
   "metadata": {},
   "outputs": [],
   "source": [
    "d = df[(df.date>=start_date)&(df.date<=end_date)].groupby(df.request_id).total_price.value_counts().reset_index(name = 'ct')"
   ]
  },
  {
   "cell_type": "code",
   "execution_count": null,
   "id": "3f738d95",
   "metadata": {},
   "outputs": [],
   "source": [
    "b = d.total_price.sum()"
   ]
  },
  {
   "cell_type": "code",
   "execution_count": null,
   "id": "3f4212c5",
   "metadata": {},
   "outputs": [],
   "source": [
    "dd = d = df[(df.date>=start_date)&(df.date<=end_date)&(df.shop_name_norm.str.contains('small'))].groupby(df.request_id).total_price.value_counts().reset_index(name = 'ct')"
   ]
  },
  {
   "cell_type": "code",
   "execution_count": null,
   "id": "bd41e3d1",
   "metadata": {},
   "outputs": [],
   "source": [
    "a = dd.total_price.sum()"
   ]
  },
  {
   "cell_type": "code",
   "execution_count": null,
   "id": "6892d848",
   "metadata": {},
   "outputs": [],
   "source": [
    "a"
   ]
  },
  {
   "cell_type": "code",
   "execution_count": null,
   "id": "d02724a3",
   "metadata": {},
   "outputs": [],
   "source": [
    "b"
   ]
  },
  {
   "cell_type": "code",
   "execution_count": null,
   "id": "d09c637e",
   "metadata": {},
   "outputs": [],
   "source": [
    "df.loc[:, ['total_price', 'quantity']] = df.loc[:, ['total_price', 'quantity']].apply(lambda x: astype(x))"
   ]
  },
  {
   "cell_type": "code",
   "execution_count": null,
   "id": "450fb661",
   "metadata": {},
   "outputs": [],
   "source": [
    "d.values"
   ]
  },
  {
   "cell_type": "code",
   "execution_count": null,
   "id": "d5fb7fac",
   "metadata": {},
   "outputs": [],
   "source": []
  }
 ],
 "metadata": {
  "kernelspec": {
   "display_name": "Python 3",
   "language": "python",
   "name": "python3"
  },
  "language_info": {
   "codemirror_mode": {
    "name": "ipython",
    "version": 3
   },
   "file_extension": ".py",
   "mimetype": "text/x-python",
   "name": "python",
   "nbconvert_exporter": "python",
   "pygments_lexer": "ipython3",
   "version": "3.8.8"
  }
 },
 "nbformat": 4,
 "nbformat_minor": 5
}
